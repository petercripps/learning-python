{
 "cells": [
  {
   "cell_type": "markdown",
   "id": "e844fb21",
   "metadata": {},
   "source": [
    "![DI logo](DI_logo.png \"DI logo\")"
   ]
  },
  {
   "cell_type": "markdown",
   "id": "e217af01",
   "metadata": {},
   "source": [
    "# PyQt Introduction"
   ]
  },
  {
   "cell_type": "markdown",
   "id": "4ac3dca8",
   "metadata": {},
   "source": [
    "## Import PyQt Components"
   ]
  },
  {
   "cell_type": "code",
   "execution_count": null,
   "id": "13939c43",
   "metadata": {},
   "outputs": [],
   "source": [
    "from PyQt5.QtWidgets import QApplication, QMainWindow, QLabel\n",
    "import sys"
   ]
  },
  {
   "cell_type": "markdown",
   "id": "4389881f",
   "metadata": {},
   "source": [
    "## Create an App"
   ]
  },
  {
   "cell_type": "code",
   "execution_count": null,
   "id": "f164cc18",
   "metadata": {},
   "outputs": [],
   "source": [
    "app = QApplication(sys.argv)"
   ]
  },
  {
   "cell_type": "markdown",
   "id": "751c71a7",
   "metadata": {},
   "source": [
    "## Create Your Window"
   ]
  },
  {
   "cell_type": "code",
   "execution_count": null,
   "id": "7d245d90",
   "metadata": {},
   "outputs": [],
   "source": [
    "window = QMainWindow()\n",
    "window.setGeometry(300, 300, 200, 100)\n",
    "window.setWindowTitle(\"PyQt5 Hello World!\")\n",
    "label = QLabel(window)\n",
    "label.setText(\"Hello World!\")"
   ]
  },
  {
   "cell_type": "markdown",
   "id": "1f52ee1b",
   "metadata": {},
   "source": [
    "## Run the App"
   ]
  },
  {
   "cell_type": "code",
   "execution_count": null,
   "id": "7fa7e64f",
   "metadata": {},
   "outputs": [],
   "source": [
    "window.show()\n",
    "sys.exit(app.exec_())"
   ]
  }
 ],
 "metadata": {
  "kernelspec": {
   "display_name": "Python 3 (ipykernel)",
   "language": "python",
   "name": "python3"
  },
  "language_info": {
   "codemirror_mode": {
    "name": "ipython",
    "version": 3
   },
   "file_extension": ".py",
   "mimetype": "text/x-python",
   "name": "python",
   "nbconvert_exporter": "python",
   "pygments_lexer": "ipython3",
   "version": "3.9.12"
  }
 },
 "nbformat": 4,
 "nbformat_minor": 5
}
