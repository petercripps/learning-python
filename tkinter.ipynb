{
 "cells": [
  {
   "cell_type": "markdown",
   "id": "c4e653d2",
   "metadata": {},
   "source": [
    "![DI logo](DI_logo.png \"DI logo\")"
   ]
  },
  {
   "cell_type": "markdown",
   "id": "130f9ffd",
   "metadata": {},
   "source": [
    "# Tkinter Introduction"
   ]
  },
  {
   "cell_type": "markdown",
   "id": "2dafa31e",
   "metadata": {},
   "source": [
    "## Import PyQt Components"
   ]
  },
  {
   "cell_type": "code",
   "execution_count": null,
   "id": "d6a2565d",
   "metadata": {},
   "outputs": [],
   "source": [
    "from tkinter import *\n",
    "from tkinter import filedialog"
   ]
  },
  {
   "cell_type": "markdown",
   "id": "69695cb6",
   "metadata": {},
   "source": [
    "## Create Your Window"
   ]
  },
  {
   "cell_type": "code",
   "execution_count": 6,
   "id": "d4e5f6c4",
   "metadata": {},
   "outputs": [],
   "source": [
    "win = Tk()\n",
    "win.wm_title(\"Directory Dialog\")\n",
    "win.geometry('200x200')\n",
    "win.grid_rowconfigure(0, weight = 1)\n",
    "win.grid_columnconfigure(0, weight = 1)"
   ]
  },
  {
   "cell_type": "markdown",
   "id": "de3c6f2b",
   "metadata": {},
   "source": [
    "## Run the App"
   ]
  },
  {
   "cell_type": "code",
   "execution_count": 8,
   "id": "2cdea19b",
   "metadata": {},
   "outputs": [],
   "source": [
    "win.mainloop()"
   ]
  },
  {
   "cell_type": "markdown",
   "id": "cc0c8fe9",
   "metadata": {},
   "source": [
    "## Add a Dialog Box"
   ]
  },
  {
   "cell_type": "code",
   "execution_count": 7,
   "id": "4790a7f7",
   "metadata": {},
   "outputs": [],
   "source": [
    "def directory():\n",
    "    # get a directory path by user\n",
    "    filepath=filedialog.askdirectory(initialdir=r\"/Users/petercripps/Code/\",\n",
    "                                    title=\"Dialog box\")\n",
    "    label_path=Label(text=filepath,font=('italic 14'))\n",
    "    label_path.pack(pady=20)\n",
    "\n",
    "dialog_btn = Button(win, text='Path', command = directory)\n",
    "dialog_btn.pack()"
   ]
  }
 ],
 "metadata": {
  "kernelspec": {
   "display_name": "Python 3 (ipykernel)",
   "language": "python",
   "name": "python3"
  },
  "language_info": {
   "codemirror_mode": {
    "name": "ipython",
    "version": 3
   },
   "file_extension": ".py",
   "mimetype": "text/x-python",
   "name": "python",
   "nbconvert_exporter": "python",
   "pygments_lexer": "ipython3",
   "version": "3.9.12"
  }
 },
 "nbformat": 4,
 "nbformat_minor": 5
}
